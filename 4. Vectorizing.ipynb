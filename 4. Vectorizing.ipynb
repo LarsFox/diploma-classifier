{
 "cells": [
  {
   "cell_type": "markdown",
   "id": "f9450835",
   "metadata": {},
   "source": [
    "# Vectorizing"
   ]
  },
  {
   "cell_type": "code",
   "execution_count": 16,
   "id": "514b0a2a",
   "metadata": {},
   "outputs": [
    {
     "name": "stdout",
     "output_type": "stream",
     "text": [
      "The autoreload extension is already loaded. To reload it, use:\n",
      "  %reload_ext autoreload\n"
     ]
    }
   ],
   "source": [
    "%load_ext autoreload\n",
    "%autoreload 2"
   ]
  },
  {
   "cell_type": "code",
   "execution_count": 3,
   "id": "317f1506",
   "metadata": {},
   "outputs": [],
   "source": [
    "import numpy as np\n",
    "from sklearn.model_selection import train_test_split\n",
    "from sklearn.feature_selection import chi2\n",
    "from sklearn.feature_extraction.text import TfidfVectorizer"
   ]
  },
  {
   "cell_type": "code",
   "execution_count": 4,
   "id": "63d8d35d",
   "metadata": {},
   "outputs": [],
   "source": [
    "from helpers import dump_pickle, load_pickle"
   ]
  },
  {
   "cell_type": "code",
   "execution_count": 5,
   "id": "b0d090fc",
   "metadata": {},
   "outputs": [],
   "source": [
    "df = load_pickle('tass/dfLemmas')"
   ]
  },
  {
   "cell_type": "code",
   "execution_count": 4,
   "id": "c0560e2b",
   "metadata": {},
   "outputs": [
    {
     "data": {
      "text/html": [
       "<div>\n",
       "<style scoped>\n",
       "    .dataframe tbody tr th:only-of-type {\n",
       "        vertical-align: middle;\n",
       "    }\n",
       "\n",
       "    .dataframe tbody tr th {\n",
       "        vertical-align: top;\n",
       "    }\n",
       "\n",
       "    .dataframe thead th {\n",
       "        text-align: right;\n",
       "    }\n",
       "</style>\n",
       "<table border=\"1\" class=\"dataframe\">\n",
       "  <thead>\n",
       "    <tr style=\"text-align: right;\">\n",
       "      <th></th>\n",
       "      <th>filename</th>\n",
       "      <th>category</th>\n",
       "      <th>url</th>\n",
       "      <th>text</th>\n",
       "      <th>length</th>\n",
       "      <th>trimmed</th>\n",
       "      <th>stopped</th>\n",
       "      <th>lemmas</th>\n",
       "    </tr>\n",
       "  </thead>\n",
       "  <tbody>\n",
       "    <tr>\n",
       "      <th>0</th>\n",
       "      <td>13640047.txt</td>\n",
       "      <td>obschestvo</td>\n",
       "      <td>tass.ru/obschestvo/13640047</td>\n",
       "      <td>Минздрав Бразилии считает тревожной ситуацию с...</td>\n",
       "      <td>1688</td>\n",
       "      <td>минздрав бразилии считает тревожной ситуацию с...</td>\n",
       "      <td>минздрав бразилии считает тревожной ситуацию  ...</td>\n",
       "      <td>минздрав бразилия считать тревожный ситуация р...</td>\n",
       "    </tr>\n",
       "    <tr>\n",
       "      <th>1</th>\n",
       "      <td>13633917.txt</td>\n",
       "      <td>obschestvo</td>\n",
       "      <td>tass.ru/obschestvo/13633917</td>\n",
       "      <td>На Филиппинах началась вакцинация от коронавир...</td>\n",
       "      <td>1892</td>\n",
       "      <td>на филиппинах началась вакцинация от коронавир...</td>\n",
       "      <td>филиппинах началась вакцинация  коронавируса ...</td>\n",
       "      <td>филиппины начинаться вакцинация коронавирус ре...</td>\n",
       "    </tr>\n",
       "    <tr>\n",
       "      <th>2</th>\n",
       "      <td>13680263.txt</td>\n",
       "      <td>obschestvo</td>\n",
       "      <td>tass.ru/obschestvo/13680263</td>\n",
       "      <td>Песков подтвердил, что Макрон перед переговора...</td>\n",
       "      <td>1771</td>\n",
       "      <td>песков подтвердил что макрон перед переговорам...</td>\n",
       "      <td>песков подтвердил  макрон  переговорами  путин...</td>\n",
       "      <td>песков подтверждать макрон переговоры путин от...</td>\n",
       "    </tr>\n",
       "    <tr>\n",
       "      <th>3</th>\n",
       "      <td>13649077.txt</td>\n",
       "      <td>obschestvo</td>\n",
       "      <td>tass.ru/obschestvo/13649077</td>\n",
       "      <td>В Петербурге развернули дополнительно 200 коек...</td>\n",
       "      <td>1911</td>\n",
       "      <td>в петербурге развернули дополнительно     коек...</td>\n",
       "      <td>петербурге развернули дополнительно     коек ...</td>\n",
       "      <td>петербург развертывать дополнительно койка лен...</td>\n",
       "    </tr>\n",
       "    <tr>\n",
       "      <th>4</th>\n",
       "      <td>13656631.txt</td>\n",
       "      <td>obschestvo</td>\n",
       "      <td>tass.ru/obschestvo/13656631</td>\n",
       "      <td>Раскрываемость убийств в Татарстане достигла с...</td>\n",
       "      <td>1502</td>\n",
       "      <td>раскрываемость убийств в татарстане достигла с...</td>\n",
       "      <td>раскрываемость убийств  татарстане достигла са...</td>\n",
       "      <td>раскрываемость убийство татарстан достигать са...</td>\n",
       "    </tr>\n",
       "  </tbody>\n",
       "</table>\n",
       "</div>"
      ],
      "text/plain": [
       "       filename    category                          url  \\\n",
       "0  13640047.txt  obschestvo  tass.ru/obschestvo/13640047   \n",
       "1  13633917.txt  obschestvo  tass.ru/obschestvo/13633917   \n",
       "2  13680263.txt  obschestvo  tass.ru/obschestvo/13680263   \n",
       "3  13649077.txt  obschestvo  tass.ru/obschestvo/13649077   \n",
       "4  13656631.txt  obschestvo  tass.ru/obschestvo/13656631   \n",
       "\n",
       "                                                text  length  \\\n",
       "0  Минздрав Бразилии считает тревожной ситуацию с...    1688   \n",
       "1  На Филиппинах началась вакцинация от коронавир...    1892   \n",
       "2  Песков подтвердил, что Макрон перед переговора...    1771   \n",
       "3  В Петербурге развернули дополнительно 200 коек...    1911   \n",
       "4  Раскрываемость убийств в Татарстане достигла с...    1502   \n",
       "\n",
       "                                             trimmed  \\\n",
       "0  минздрав бразилии считает тревожной ситуацию с...   \n",
       "1  на филиппинах началась вакцинация от коронавир...   \n",
       "2  песков подтвердил что макрон перед переговорам...   \n",
       "3  в петербурге развернули дополнительно     коек...   \n",
       "4  раскрываемость убийств в татарстане достигла с...   \n",
       "\n",
       "                                             stopped  \\\n",
       "0  минздрав бразилии считает тревожной ситуацию  ...   \n",
       "1   филиппинах началась вакцинация  коронавируса ...   \n",
       "2  песков подтвердил  макрон  переговорами  путин...   \n",
       "3   петербурге развернули дополнительно     коек ...   \n",
       "4  раскрываемость убийств  татарстане достигла са...   \n",
       "\n",
       "                                              lemmas  \n",
       "0  минздрав бразилия считать тревожный ситуация р...  \n",
       "1  филиппины начинаться вакцинация коронавирус ре...  \n",
       "2  песков подтверждать макрон переговоры путин от...  \n",
       "3  петербург развертывать дополнительно койка лен...  \n",
       "4  раскрываемость убийство татарстан достигать са...  "
      ]
     },
     "execution_count": 4,
     "metadata": {},
     "output_type": "execute_result"
    }
   ],
   "source": [
    "df.head()"
   ]
  },
  {
   "cell_type": "code",
   "execution_count": 17,
   "id": "ec800c35",
   "metadata": {},
   "outputs": [],
   "source": [
    "CODES = {\n",
    "    'obschestvo': 0,\n",
    "    'ekonomika': 1,\n",
    "    'politika': 2,\n",
    "    'sport': 3,\n",
    "    'kultura': 4\n",
    "}\n",
    "\n",
    "df['code'] = df['category'].apply(lambda x: CODES.get(x))"
   ]
  },
  {
   "cell_type": "code",
   "execution_count": 18,
   "id": "7efcfc91",
   "metadata": {},
   "outputs": [],
   "source": [
    "data_train, data_test, labels_train, labels_test = train_test_split(\n",
    "    df['lemmas'], \n",
    "    df['code'], \n",
    "    test_size=0.15, \n",
    "    random_state=26\n",
    ")"
   ]
  },
  {
   "cell_type": "markdown",
   "id": "0d6ce65c",
   "metadata": {},
   "source": [
    "## Settings\n",
    "* `ngram_range = (1, 2)`: define unigrams, bigrams\n",
    "* `max_df = 1.0`: use all terms, even those that are used in 100% of documents\n",
    "* `min_df = 10`: ignore terms that are used in less than 10 documents\n",
    "* `max_features`: use top-700 most frequently used terms"
   ]
  },
  {
   "cell_type": "code",
   "execution_count": 43,
   "id": "d1d60fb7",
   "metadata": {},
   "outputs": [],
   "source": [
    "TfidfVectorizer?"
   ]
  },
  {
   "cell_type": "code",
   "execution_count": 42,
   "id": "3c4e5477",
   "metadata": {},
   "outputs": [
    {
     "data": {
      "text/plain": [
       "(8980, 700)"
      ]
     },
     "execution_count": 42,
     "metadata": {},
     "output_type": "execute_result"
    }
   ],
   "source": [
    "tfidf = TfidfVectorizer(encoding='utf-8',\n",
    "                        ngram_range=(1, 2),\n",
    "                        stop_words=None,\n",
    "                        lowercase=False,\n",
    "                        max_df=1.0,\n",
    "                        min_df=10,\n",
    "                        max_features=700,\n",
    "                        norm='l2',\n",
    "                        sublinear_tf=True)\n",
    "\n",
    "features_train = tfidf.fit_transform(data_train).toarray()\n",
    "features_train.shape"
   ]
  },
  {
   "cell_type": "code",
   "execution_count": 38,
   "id": "a8671acc",
   "metadata": {},
   "outputs": [
    {
     "data": {
      "text/plain": [
       "(1585, 700)"
      ]
     },
     "execution_count": 38,
     "metadata": {},
     "output_type": "execute_result"
    }
   ],
   "source": [
    "features_test = tfidf.transform(data_test).toarray()\n",
    "features_test.shape"
   ]
  },
  {
   "cell_type": "code",
   "execution_count": 39,
   "id": "9779a2fa",
   "metadata": {},
   "outputs": [
    {
     "name": "stdout",
     "output_type": "stream",
     "text": [
      "Category ekonomika\n",
      "\tUnigrams: объем, цена, газ, рынок, компания\n",
      "\tBigrams: игра пекин, январь год, сборная россия, прошлое год, олимпийский игра\n",
      "\n",
      "\n",
      "Category kultura\n",
      "\tUnigrams: музей, фестиваль, режиссер, театр, фильм\n",
      "\tBigrams: мид рф, санкт петербург, игра пекин, сборная россия, олимпийский игра\n",
      "\n",
      "\n",
      "Category obschestvo\n",
      "\tUnigrams: заражение, заболеваемость, сутки, инфекция, пациент\n",
      "\tBigrams: игра пекин, сборная россия, олимпийский игра, коронавирусный инфекция, случай заражение\n",
      "\n",
      "\n",
      "Category politika\n",
      "\tUnigrams: песков, безопасность, нато, лавров, мид\n",
      "\tBigrams: пресс секретарь, министр иностранный, иностранный дело, гарантия безопасность, мид рф\n",
      "\n",
      "\n",
      "Category sport\n",
      "\tUnigrams: олимпиада, пекин, сборная, игра, олимпийский\n",
      "\tBigrams: командный турнир, олимпиада пекин, игра пекин, сборная россия, олимпийский игра\n",
      "\n",
      "\n"
     ]
    }
   ],
   "source": [
    "for category, code in sorted(CODES.items()):\n",
    "    features_chi2 = chi2(features_train, labels_train == code)\n",
    "    indices = np.argsort(features_chi2[0])\n",
    "    feature_names = np.array(tfidf.get_feature_names_out())[indices]\n",
    "    unigrams = [v for v in feature_names if len(v.split(' ')) == 1]\n",
    "    bigrams = [v for v in feature_names if len(v.split(' ')) == 2]\n",
    "    top_unigrams = ', '.join(unigrams[-5:])\n",
    "    top_bigrams = ', '.join(bigrams[-5:])\n",
    "\n",
    "    print(f'Category {category}')\n",
    "    print(f'\\tUnigrams: {top_unigrams}')\n",
    "    print(f'\\tBigrams: {top_bigrams}')\n",
    "    print('\\n')"
   ]
  },
  {
   "cell_type": "code",
   "execution_count": 40,
   "id": "0f5da435",
   "metadata": {},
   "outputs": [
    {
     "data": {
      "text/plain": [
       "['сообщать пресс',\n",
       " 'принимать решение',\n",
       " 'генеральный директор',\n",
       " 'случай заражение',\n",
       " 'санкт петербург',\n",
       " 'принимать участие',\n",
       " 'декабрь год',\n",
       " 'пресс конференция',\n",
       " 'настоящий время',\n",
       " 'коронавирусный инфекция',\n",
       " 'пресс служба',\n",
       " 'январь год',\n",
       " 'прошлое год',\n",
       " 'февраль год',\n",
       " 'рф владимир',\n",
       " 'дмитрий песков',\n",
       " 'президент россия',\n",
       " 'министр иностранный',\n",
       " 'гарантия безопасность',\n",
       " 'пресс секретарь',\n",
       " 'иностранный дело',\n",
       " 'владимир путин',\n",
       " 'президент рф',\n",
       " 'мид рф',\n",
       " 'такой мнение',\n",
       " 'второй место',\n",
       " 'командный турнир',\n",
       " 'олимпиада пекин',\n",
       " 'игра пекин',\n",
       " 'сборная россия',\n",
       " 'олимпийский игра']"
      ]
     },
     "execution_count": 40,
     "metadata": {},
     "output_type": "execute_result"
    }
   ],
   "source": [
    "bigrams"
   ]
  },
  {
   "cell_type": "code",
   "execution_count": 85,
   "id": "04ea3d5f",
   "metadata": {},
   "outputs": [],
   "source": [
    "dump_pickle('tass/dfCoded', df)\n",
    "dump_pickle('tass/tfidf', tfidf)\n",
    "dump_pickle('tass/tfidf2', tfidf2)\n",
    "dump_pickle('tass/data_train', data_train)\n",
    "dump_pickle('tass/data_test', data_test)\n",
    "dump_pickle('tass/features_train', features_train)\n",
    "dump_pickle('tass/features_test', features_test)\n",
    "dump_pickle('tass/labels_train', labels_train)\n",
    "dump_pickle('tass/labels_test', labels_test)"
   ]
  },
  {
   "cell_type": "markdown",
   "id": "ce6de39f",
   "metadata": {},
   "source": [
    "## TF-IDF with max value"
   ]
  },
  {
   "cell_type": "code",
   "execution_count": 44,
   "id": "d30bcde3",
   "metadata": {},
   "outputs": [
    {
     "data": {
      "text/plain": [
       "(8980, 700)"
      ]
     },
     "execution_count": 44,
     "metadata": {},
     "output_type": "execute_result"
    }
   ],
   "source": [
    "tfidf = TfidfVectorizer(encoding='utf-8',\n",
    "                        ngram_range=(1, 2),\n",
    "                        stop_words=None,\n",
    "                        lowercase=False,\n",
    "                        max_df=0.95,\n",
    "                        min_df=0.03,\n",
    "                        max_features=700,\n",
    "                        norm='l2',\n",
    "                        sublinear_tf=True)\n",
    "\n",
    "features_train = tfidf.fit_transform(data_train).toarray()\n",
    "features_train.shape"
   ]
  },
  {
   "cell_type": "code",
   "execution_count": 45,
   "id": "3d06c4a1",
   "metadata": {},
   "outputs": [
    {
     "data": {
      "text/plain": [
       "(1585, 700)"
      ]
     },
     "execution_count": 45,
     "metadata": {},
     "output_type": "execute_result"
    }
   ],
   "source": [
    "features_test = tfidf.transform(data_test).toarray()\n",
    "features_test.shape"
   ]
  },
  {
   "cell_type": "code",
   "execution_count": 46,
   "id": "417f2d05",
   "metadata": {},
   "outputs": [
    {
     "name": "stdout",
     "output_type": "stream",
     "text": [
      "Category ekonomika\n",
      "\tUnigrams: объем, цена, газ, рынок, компания\n",
      "\tBigrams: январь год, сборная россия, прошлое год, олимпийский игра, составлять рубль\n",
      "\n",
      "\n",
      "Category kultura\n",
      "\tUnigrams: музей, фестиваль, режиссер, театр, фильм\n",
      "\tBigrams: пресс служба, санкт петербург, игра пекин, сборная россия, олимпийский игра\n",
      "\n",
      "\n",
      "Category obschestvo\n",
      "\tUnigrams: заражение, коронавирус, сутки, инфекция, пациент\n",
      "\tBigrams: игра пекин, сборная россия, олимпийский игра, коронавирусный инфекция, случай заражение\n",
      "\n",
      "\n",
      "Category politika\n",
      "\tUnigrams: песков, безопасность, лавров, нато, мид\n",
      "\tBigrams: пресс секретарь, министр иностранный, иностранный дело, гарантия безопасность, мид рф\n",
      "\n",
      "\n",
      "Category sport\n",
      "\tUnigrams: олимпиада, пекин, сборная, игра, олимпийский\n",
      "\tBigrams: завершаться февраль, олимпиада пекин, игра пекин, сборная россия, олимпийский игра\n",
      "\n",
      "\n"
     ]
    }
   ],
   "source": [
    "for category, code in sorted(CODES.items()):\n",
    "    features_chi2 = chi2(features_train, labels_train == code)\n",
    "    indices = np.argsort(features_chi2[0])\n",
    "    feature_names = np.array(tfidf.get_feature_names_out())[indices]\n",
    "    unigrams = [v for v in feature_names if len(v.split(' ')) == 1]\n",
    "    bigrams = [v for v in feature_names if len(v.split(' ')) == 2]\n",
    "    top_unigrams = ', '.join(unigrams[-5:])\n",
    "    top_bigrams = ', '.join(bigrams[-5:])\n",
    "\n",
    "    print(f'Category {category}')\n",
    "    print(f'\\tUnigrams: {top_unigrams}')\n",
    "    print(f'\\tBigrams: {top_bigrams}')\n",
    "    print('\\n')"
   ]
  },
  {
   "cell_type": "code",
   "execution_count": 47,
   "id": "ee8bd20f",
   "metadata": {},
   "outputs": [
    {
     "data": {
      "text/plain": [
       "['сообщать пресс',\n",
       " 'принимать решение',\n",
       " 'генеральный директор',\n",
       " 'случай заражение',\n",
       " 'санкт петербург',\n",
       " 'принимать участие',\n",
       " 'декабрь год',\n",
       " 'пресс конференция',\n",
       " 'настоящий время',\n",
       " 'коронавирусный инфекция',\n",
       " 'пресс служба',\n",
       " 'январь год',\n",
       " 'прошлое год',\n",
       " 'февраль год',\n",
       " 'российский федерация',\n",
       " 'составлять рубль',\n",
       " 'дмитрий песков',\n",
       " 'рф владимир',\n",
       " 'премьер министр',\n",
       " 'президент россия',\n",
       " 'министр иностранный',\n",
       " 'гарантия безопасность',\n",
       " 'пресс секретарь',\n",
       " 'иностранный дело',\n",
       " 'владимир путин',\n",
       " 'президент рф',\n",
       " 'мид рф',\n",
       " 'первый место',\n",
       " 'такой мнение',\n",
       " 'второй место',\n",
       " 'завершаться февраль',\n",
       " 'олимпиада пекин',\n",
       " 'игра пекин',\n",
       " 'сборная россия',\n",
       " 'олимпийский игра']"
      ]
     },
     "execution_count": 47,
     "metadata": {},
     "output_type": "execute_result"
    }
   ],
   "source": [
    "bigrams"
   ]
  },
  {
   "cell_type": "code",
   "execution_count": 48,
   "id": "e25d7f1a",
   "metadata": {},
   "outputs": [],
   "source": [
    "dump_pickle('tass/max_df/dfCoded', df)\n",
    "dump_pickle('tass/max_df/tfidf', tfidf)\n",
    "dump_pickle('tass/max_df/data_train', data_train)\n",
    "dump_pickle('tass/max_df/data_test', data_test)\n",
    "dump_pickle('tass/max_df/features_train', features_train)\n",
    "dump_pickle('tass/max_df/features_test', features_test)\n",
    "dump_pickle('tass/max_df/labels_train', labels_train)\n",
    "dump_pickle('tass/max_df/labels_test', labels_test)"
   ]
  }
 ],
 "metadata": {
  "kernelspec": {
   "display_name": "Python 3 (ipykernel)",
   "language": "python",
   "name": "python3"
  },
  "language_info": {
   "codemirror_mode": {
    "name": "ipython",
    "version": 3
   },
   "file_extension": ".py",
   "mimetype": "text/x-python",
   "name": "python",
   "nbconvert_exporter": "python",
   "pygments_lexer": "ipython3",
   "version": "3.8.9"
  }
 },
 "nbformat": 4,
 "nbformat_minor": 5
}
